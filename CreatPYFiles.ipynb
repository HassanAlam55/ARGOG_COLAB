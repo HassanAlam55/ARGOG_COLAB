{
  "nbformat": 4,
  "nbformat_minor": 0,
  "metadata": {
    "colab": {
      "provenance": [],
      "authorship_tag": "ABX9TyP9SpRTB995AfkwG3ceuNF0"
    },
    "kernelspec": {
      "name": "python3",
      "display_name": "Python 3"
    },
    "language_info": {
      "name": "python"
    }
  },
  "cells": [
    {
      "cell_type": "code",
      "source": [
        "from google.colab import drive\n",
        "drive.mount('/content/drive')\n"
      ],
      "metadata": {
        "colab": {
          "base_uri": "https://localhost:8080/"
        },
        "id": "386IxuRuMxrl",
        "outputId": "e62ba575-ce9d-40f3-a568-100123c94a8d"
      },
      "execution_count": 1,
      "outputs": [
        {
          "output_type": "stream",
          "name": "stdout",
          "text": [
            "Mounted at /content/drive\n"
          ]
        }
      ]
    },
    {
      "cell_type": "code",
      "source": [
        "import os\n",
        "\n",
        "# Define the path to the ARGOG subdirectory\n",
        "argog_dir = \"/content/drive/My Drive/Colab Notebooks/ARGOG\"\n",
        "\n",
        "# Create the directory if it doesn't exist\n",
        "if not os.path.exists(argog_dir):\n",
        "    os.makedirs(argog_dir)\n",
        "    print(f\"Directory created: {argog_dir}\")\n",
        "else:\n",
        "    print(f\"Directory already exists: {argog_dir}\")\n",
        "\n",
        "script_path = f\"{argog_dir}/util.py\"\n",
        "\n",
        "print (script_path)\n",
        "formatted_path = script_path.replace(\" \", \"\\ \")\n"
      ],
      "metadata": {
        "colab": {
          "base_uri": "https://localhost:8080/"
        },
        "id": "c1SGG4reOkJ_",
        "outputId": "71649909-5918-40e7-d708-95632a459abd"
      },
      "execution_count": 9,
      "outputs": [
        {
          "output_type": "stream",
          "name": "stdout",
          "text": [
            "Directory already exists: /content/drive/My Drive/Colab Notebooks/ARGOG\n",
            "/content/drive/My Drive/Colab Notebooks/ARGOG/util.py\n"
          ]
        }
      ]
    },
    {
      "cell_type": "code",
      "execution_count": 11,
      "metadata": {
        "colab": {
          "base_uri": "https://localhost:8080/"
        },
        "id": "9bBqaFOPcyoW",
        "outputId": "c617effc-5885-4992-9bcf-8667f1a58ee5"
      },
      "outputs": [
        {
          "output_type": "stream",
          "name": "stdout",
          "text": [
            "Writing /content/drive/My Drive/Colab Notebooks/ARGOG/util.py\n"
          ]
        }
      ],
      "source": [
        "%%writefile \"/content/drive/My Drive/Colab Notebooks/ARGOG/util.py\"\n",
        "import pandas as pd\n",
        "import time\n",
        "\n",
        "from dotenv import load_dotenv\n",
        "import os\n",
        "\n",
        "def remove_nul_chars_from_string(s):\n",
        "    \"\"\"Remove NUL characters from a single string.\"\"\"\n",
        "    return s.replace('\\x00', '')\n",
        "\n",
        "def remove_nul_chars_from_run_data(run_data):\n",
        "    \"\"\"Iterate over all fields of RunData to remove NUL characters.\"\"\"\n",
        "    for run in run_data:\n",
        "        run.reference_question = remove_nul_chars_from_string(run.reference_question)\n",
        "        run.reference_answer = remove_nul_chars_from_string(run.reference_answer)\n",
        "        run.llm_answer = remove_nul_chars_from_string(run.llm_answer)\n",
        "        run.llm_context = [remove_nul_chars_from_string(context) for context in run.llm_context]\n",
        "\n",
        "def make_get_llama_response(query_engine):\n",
        "    def get_llama_response(prompt):\n",
        "        # print(prompt)\n",
        "        response = query_engine.query(prompt)\n",
        "        context = []\n",
        "        for x in response.source_nodes:\n",
        "            # Initialize context string with the text of the node\n",
        "            node_context = x.text\n",
        "            # Check if 'window' metadata exists and append it to the context\n",
        "            if 'window' in x.metadata:\n",
        "                node_context += \"\\n\\nWindow Context:\\n\" + x.metadata['window']\n",
        "            context.append(node_context)\n",
        "        return {\n",
        "            \"llm_answer\": response.response,\n",
        "            \"llm_context_list\": context\n",
        "        }\n",
        "    return get_llama_response\n",
        "\n",
        "def chunked_iterable(iterable, size):\n",
        "    \"\"\"Yield successive size chunks from iterable.\"\"\"\n",
        "    for i in range(0, len(iterable), size):\n",
        "        yield iterable[i:i + size]\n",
        "\n",
        "# Function to load and validate configuration settings\n",
        "def load_config():\n",
        "    # Load environment variables from a .env file\n",
        "    load_dotenv()\n",
        "\n",
        "\n",
        "def run_experiment(experiment_name, query_engine, scorer, benchmark, validate_api, project_key, upload_results=True, runs=5):\n",
        "    # List to store results dictionaries\n",
        "    results_list = []\n",
        "\n",
        "    for i in range(runs):\n",
        "        get_llama_response_func = make_get_llama_response(query_engine)\n",
        "        run = scorer.score(benchmark,\n",
        "                           get_llama_response_func,\n",
        "                           callback_parallelism=1,\n",
        "                           scoring_parallelism=1)\n",
        "        print(f\"{experiment_name} Run {i+1} Overall Scores:\", run.overall_scores)\n",
        "        remove_nul_chars_from_run_data(run.run_data)\n",
        "\n",
        "        # Add this run's results to the list\n",
        "        results_list.append({'Run': i+1, 'Experiment': experiment_name, 'OverallScores': run.overall_scores})\n",
        "\n",
        "        if upload_results:\n",
        "            validate_api.upload_run(project_key, run=run, run_metadata={\"approach\": experiment_name, \"run_number\": i+1})\n",
        "        else:\n",
        "            print(f\"Skipping upload for {experiment_name} Run {i+1}.\")\n",
        "\n",
        "    # Create a DataFrame from the list of results dictionaries\n",
        "    results_df = pd.DataFrame(results_list)\n",
        "\n",
        "    # Return the DataFrame containing all the results\n",
        "    return results_df\n",
        "\n",
        "def filter_large_nodes(nodes, max_length=8000):\n",
        "    \"\"\"\n",
        "    Filters out nodes with 'window' or 'text' length greater than max_length.\n",
        "    Needed bcs sometimes the sentences are too long due to tables or refereneces in data.\n",
        "    It creates one giga long non-sensical sentence. Before filtering please do analysis\n",
        "    so that you dont throw out anything important.\n",
        "\n",
        "    Args:\n",
        "    - nodes (list): List of node objects.\n",
        "    - max_length (int): Maximum allowed length for 'window' and 'text'.\n",
        "\n",
        "    Returns:\n",
        "    - list: Filtered list of nodes.\n",
        "    \"\"\"\n",
        "    filtered_nodes = []\n",
        "    for node in nodes:\n",
        "        text_length = len(node.text)\n",
        "        window_length = len(node.metadata.get('window', ''))\n",
        "\n",
        "        if text_length <= max_length and window_length <= max_length:\n",
        "            filtered_nodes.append(node)\n",
        "    return filtered_nodes\n"
      ]
    },
    {
      "cell_type": "markdown",
      "source": [
        "# New Section"
      ],
      "metadata": {
        "id": "ZmyW2VOsdLDb"
      }
    },
    {
      "cell_type": "code",
      "source": [
        "from google.colab import drive\n",
        "drive.mount('/content/drive')"
      ],
      "metadata": {
        "colab": {
          "base_uri": "https://localhost:8080/"
        },
        "id": "4gJLh1yyeIRp",
        "outputId": "c5ff4aee-bf78-4b6f-e6b9-f2317ad2e6c3"
      },
      "execution_count": 5,
      "outputs": [
        {
          "output_type": "stream",
          "name": "stdout",
          "text": [
            "Mounted at /content/drive\n"
          ]
        }
      ]
    },
    {
      "cell_type": "code",
      "source": [
        "!mv utils.py /content/drive/MyDrive/\n"
      ],
      "metadata": {
        "colab": {
          "base_uri": "https://localhost:8080/"
        },
        "id": "MUpM-ZADc7zw",
        "outputId": "f98a23ba-58d1-4006-8042-9a4793c0d4c7"
      },
      "execution_count": 7,
      "outputs": [
        {
          "output_type": "stream",
          "name": "stdout",
          "text": [
            "mv: cannot stat 'utils.py': No such file or directory\n"
          ]
        }
      ]
    }
  ]
}